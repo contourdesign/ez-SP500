{
  "nbformat": 4,
  "nbformat_minor": 0,
  "metadata": {
    "colab": {
      "name": "S&P500.ipynb",
      "provenance": [],
      "collapsed_sections": [],
      "authorship_tag": "ABX9TyNdHx6VnakwQXrZpw9F3GmU",
      "include_colab_link": true
    },
    "kernelspec": {
      "name": "python3",
      "display_name": "Python 3"
    },
    "language_info": {
      "name": "python"
    }
  },
  "cells": [
    {
      "cell_type": "markdown",
      "metadata": {
        "id": "view-in-github",
        "colab_type": "text"
      },
      "source": [
        "<a href=\"https://colab.research.google.com/github/contourdesign/ez-SP500/blob/main/SP500.ipynb\" target=\"_parent\"><img src=\"https://colab.research.google.com/assets/colab-badge.svg\" alt=\"Open In Colab\"/></a>"
      ]
    },
    {
      "cell_type": "code",
      "metadata": {
        "id": "Wu9xazgJpUv8"
      },
      "source": [
        "# Get up-to-date S&P500 data very easily!"
      ],
      "execution_count": 1,
      "outputs": []
    },
    {
      "cell_type": "code",
      "metadata": {
        "id": "wj5Jq7NXpafc"
      },
      "source": [
        "# dependencies\n",
        "import pandas as pd\n",
        "import numpy as np"
      ],
      "execution_count": 19,
      "outputs": []
    },
    {
      "cell_type": "code",
      "metadata": {
        "id": "5ToOzgXIpibN"
      },
      "source": [
        "import pandas_datareader.data as web\n",
        "import datetime\n",
        "\n",
        "start = datetime.datetime(2010, 1, 1)\n",
        "end = datetime.datetime(2020, 1, 27)\n",
        "\n",
        "SP500 = web.DataReader(['sp500'], 'fred', start, end)"
      ],
      "execution_count": 9,
      "outputs": []
    },
    {
      "cell_type": "code",
      "metadata": {
        "colab": {
          "base_uri": "https://localhost:8080/",
          "height": 235
        },
        "id": "09KOKsqRpt6f",
        "outputId": "5e8f1ea9-f22c-4547-ccc5-1e24fed7f90b"
      },
      "source": [
        "SP500.head()"
      ],
      "execution_count": 12,
      "outputs": [
        {
          "output_type": "execute_result",
          "data": {
            "text/html": [
              "<div>\n",
              "<style scoped>\n",
              "    .dataframe tbody tr th:only-of-type {\n",
              "        vertical-align: middle;\n",
              "    }\n",
              "\n",
              "    .dataframe tbody tr th {\n",
              "        vertical-align: top;\n",
              "    }\n",
              "\n",
              "    .dataframe thead th {\n",
              "        text-align: right;\n",
              "    }\n",
              "</style>\n",
              "<table border=\"1\" class=\"dataframe\">\n",
              "  <thead>\n",
              "    <tr style=\"text-align: right;\">\n",
              "      <th></th>\n",
              "      <th>sp500</th>\n",
              "    </tr>\n",
              "    <tr>\n",
              "      <th>DATE</th>\n",
              "      <th></th>\n",
              "    </tr>\n",
              "  </thead>\n",
              "  <tbody>\n",
              "    <tr>\n",
              "      <th>2011-09-12</th>\n",
              "      <td>1162.27</td>\n",
              "    </tr>\n",
              "    <tr>\n",
              "      <th>2011-09-13</th>\n",
              "      <td>1172.87</td>\n",
              "    </tr>\n",
              "    <tr>\n",
              "      <th>2011-09-14</th>\n",
              "      <td>1188.68</td>\n",
              "    </tr>\n",
              "    <tr>\n",
              "      <th>2011-09-15</th>\n",
              "      <td>1209.11</td>\n",
              "    </tr>\n",
              "    <tr>\n",
              "      <th>2011-09-16</th>\n",
              "      <td>1216.01</td>\n",
              "    </tr>\n",
              "  </tbody>\n",
              "</table>\n",
              "</div>"
            ],
            "text/plain": [
              "              sp500\n",
              "DATE               \n",
              "2011-09-12  1162.27\n",
              "2011-09-13  1172.87\n",
              "2011-09-14  1188.68\n",
              "2011-09-15  1209.11\n",
              "2011-09-16  1216.01"
            ]
          },
          "metadata": {},
          "execution_count": 12
        }
      ]
    },
    {
      "cell_type": "code",
      "metadata": {
        "id": "cb0J8MyEp1_n"
      },
      "source": [
        "# create calculated column for daily return amount\n",
        "SP500['daily_return'] = (SP500['sp500']/ SP500['sp500'].shift(1)) -1\n",
        "\n",
        "#Drop all Not a number values using drop method.\n",
        "SP500.dropna(inplace = True)"
      ],
      "execution_count": 13,
      "outputs": []
    },
    {
      "cell_type": "code",
      "metadata": {
        "colab": {
          "base_uri": "https://localhost:8080/",
          "height": 235
        },
        "id": "wH02VGsdsYu0",
        "outputId": "c1d4314b-c343-4fab-f0fc-afc2318eed61"
      },
      "source": [
        "SP500.head()"
      ],
      "execution_count": 14,
      "outputs": [
        {
          "output_type": "execute_result",
          "data": {
            "text/html": [
              "<div>\n",
              "<style scoped>\n",
              "    .dataframe tbody tr th:only-of-type {\n",
              "        vertical-align: middle;\n",
              "    }\n",
              "\n",
              "    .dataframe tbody tr th {\n",
              "        vertical-align: top;\n",
              "    }\n",
              "\n",
              "    .dataframe thead th {\n",
              "        text-align: right;\n",
              "    }\n",
              "</style>\n",
              "<table border=\"1\" class=\"dataframe\">\n",
              "  <thead>\n",
              "    <tr style=\"text-align: right;\">\n",
              "      <th></th>\n",
              "      <th>sp500</th>\n",
              "      <th>daily_return</th>\n",
              "    </tr>\n",
              "    <tr>\n",
              "      <th>DATE</th>\n",
              "      <th></th>\n",
              "      <th></th>\n",
              "    </tr>\n",
              "  </thead>\n",
              "  <tbody>\n",
              "    <tr>\n",
              "      <th>2011-09-13</th>\n",
              "      <td>1172.87</td>\n",
              "      <td>0.009120</td>\n",
              "    </tr>\n",
              "    <tr>\n",
              "      <th>2011-09-14</th>\n",
              "      <td>1188.68</td>\n",
              "      <td>0.013480</td>\n",
              "    </tr>\n",
              "    <tr>\n",
              "      <th>2011-09-15</th>\n",
              "      <td>1209.11</td>\n",
              "      <td>0.017187</td>\n",
              "    </tr>\n",
              "    <tr>\n",
              "      <th>2011-09-16</th>\n",
              "      <td>1216.01</td>\n",
              "      <td>0.005707</td>\n",
              "    </tr>\n",
              "    <tr>\n",
              "      <th>2011-09-19</th>\n",
              "      <td>1204.09</td>\n",
              "      <td>-0.009803</td>\n",
              "    </tr>\n",
              "  </tbody>\n",
              "</table>\n",
              "</div>"
            ],
            "text/plain": [
              "              sp500  daily_return\n",
              "DATE                             \n",
              "2011-09-13  1172.87      0.009120\n",
              "2011-09-14  1188.68      0.013480\n",
              "2011-09-15  1209.11      0.017187\n",
              "2011-09-16  1216.01      0.005707\n",
              "2011-09-19  1204.09     -0.009803"
            ]
          },
          "metadata": {},
          "execution_count": 14
        }
      ]
    },
    {
      "cell_type": "code",
      "metadata": {
        "colab": {
          "base_uri": "https://localhost:8080/",
          "height": 302
        },
        "id": "t7d1VtKdsaLN",
        "outputId": "6d00ef4f-b7ba-46b7-c265-509ca2a01ecd"
      },
      "source": [
        "SP500['sp500'].plot(title='S&P 500 Price')"
      ],
      "execution_count": 15,
      "outputs": [
        {
          "output_type": "execute_result",
          "data": {
            "text/plain": [
              "<matplotlib.axes._subplots.AxesSubplot at 0x7f5bd4a1fb50>"
            ]
          },
          "metadata": {},
          "execution_count": 15
        },
        {
          "output_type": "display_data",
          "data": {
            "image/png": "[encoded data removed]",
            "text/plain": [
              "<Figure size 432x288 with 1 Axes>"
            ]
          },
          "metadata": {
            "needs_background": "light"
          }
        }
      ]
    },
    {
      "cell_type": "code",
      "metadata": {
        "colab": {
          "base_uri": "https://localhost:8080/",
          "height": 302
        },
        "id": "C1Oi-KgestSt",
        "outputId": "04ef8456-fb28-401e-a0fc-7e8ddf09566f"
      },
      "source": [
        "SP500['daily_return'].plot(title='S&P 500 Daily Return Rates')"
      ],
      "execution_count": 16,
      "outputs": [
        {
          "output_type": "execute_result",
          "data": {
            "text/plain": [
              "<matplotlib.axes._subplots.AxesSubplot at 0x7f5bd4433390>"
            ]
          },
          "metadata": {},
          "execution_count": 16
        },
        {
          "output_type": "display_data",
          "data": {
            "image/png": "[encoded data removed]",
            "text/plain": [
              "<Figure size 432x288 with 1 Axes>"
            ]
          },
          "metadata": {
            "needs_background": "light"
          }
        }
      ]
    },
    {
      "cell_type": "code",
      "metadata": {
        "id": "uoV7Ts7ivL_9"
      },
      "source": [
        "# Derive monthly lists of return info\n",
        "Jan = []\n",
        "Feb = []\n",
        "Mar = []\n",
        "Apr = []\n",
        "May = []\n",
        "Jun = []\n",
        "Jul = []\n",
        "Aug = []\n",
        "Sep = []\n",
        "Oct = []\n",
        "Nov = []\n",
        "Dec = []\n",
        "\n",
        "def get_returns(month, returns):\n",
        "  if month == '01':\n",
        "    Jan.append(float(returns))\n",
        "  elif month == '02':\n",
        "    Feb.append(float(returns))\n",
        "  elif month == '03':\n",
        "    Mar.append(float(returns))\n",
        "  elif month == '04':\n",
        "    Apr.append(float(returns))\n",
        "  elif month == '05':\n",
        "    May.append(float(returns))\n",
        "  elif month == '06':\n",
        "    Jun.append(float(returns))\n",
        "  elif month == '07':\n",
        "    Jul.append(float(returns))\n",
        "  elif month == '08':\n",
        "    Aug.append(float(returns))\n",
        "  elif month == '09':\n",
        "    Sep.append(float(returns))\n",
        "  elif month == '10':\n",
        "    Oct.append(float(returns))\n",
        "  elif month == '11':\n",
        "    Nov.append(float(returns))\n",
        "  elif month == '12':\n",
        "    Dec.append(float(returns))\n",
        "  else:\n",
        "    print('something went wrong')"
      ],
      "execution_count": 18,
      "outputs": []
    },
    {
      "cell_type": "code",
      "metadata": {
        "id": "ME0O8WXgyd_O"
      },
      "source": [
        "#loop thru the dataset and append return values for each month\n",
        "for i in range(0, len(SP500)):\n",
        "  df_date = str(SP500.index[i])\n",
        "  df_returns = SP500['daily_return'][i]\n",
        "  df_month = df_date.split('-')[1]\n",
        "  #add returns to each monthly list\n",
        "  get_returns(df_month, df_returns)"
      ],
      "execution_count": 20,
      "outputs": []
    },
    {
      "cell_type": "code",
      "metadata": {
        "id": "DxLtI8Wf2-Xw"
      },
      "source": [
        "# average the return in each month\n",
        "def AVG(month):\n",
        "  return [sum(month)/len(month)]"
      ],
      "execution_count": 21,
      "outputs": []
    },
    {
      "cell_type": "code",
      "metadata": {
        "id": "SoQO6JsD3IdJ"
      },
      "source": [
        "# create new df\n",
        "df_AVG = pd.DataFrame()\n",
        "# retrieve avg returns and put them into a new col\n",
        "df_AVG['AVG'] = AVG(Jan) + AVG(Feb)+ AVG(Mar)+ AVG(Apr)+ AVG(May)+ AVG(Jun)+ AVG(Jul)+ AVG(Aug)+ AVG(Sep)+ AVG(Oct)+ AVG(Nov)+ AVG(Dec)\n",
        "\n",
        "# set index to month\n",
        "df_AVG = df_AVG.set_index(df_AVG.index +1)"
      ],
      "execution_count": 22,
      "outputs": []
    },
    {
      "cell_type": "code",
      "metadata": {
        "colab": {
          "base_uri": "https://localhost:8080/",
          "height": 421
        },
        "id": "GxM2xEKu4CRN",
        "outputId": "8d0a5da5-ad5a-448e-8bbc-3f220737b82d"
      },
      "source": [
        "# display returns\n",
        "df_AVG * 100"
      ],
      "execution_count": 23,
      "outputs": [
        {
          "output_type": "execute_result",
          "data": {
            "text/html": [
              "<div>\n",
              "<style scoped>\n",
              "    .dataframe tbody tr th:only-of-type {\n",
              "        vertical-align: middle;\n",
              "    }\n",
              "\n",
              "    .dataframe tbody tr th {\n",
              "        vertical-align: top;\n",
              "    }\n",
              "\n",
              "    .dataframe thead th {\n",
              "        text-align: right;\n",
              "    }\n",
              "</style>\n",
              "<table border=\"1\" class=\"dataframe\">\n",
              "  <thead>\n",
              "    <tr style=\"text-align: right;\">\n",
              "      <th></th>\n",
              "      <th>AVG</th>\n",
              "    </tr>\n",
              "  </thead>\n",
              "  <tbody>\n",
              "    <tr>\n",
              "      <th>1</th>\n",
              "      <td>0.061032</td>\n",
              "    </tr>\n",
              "    <tr>\n",
              "      <th>2</th>\n",
              "      <td>0.099811</td>\n",
              "    </tr>\n",
              "    <tr>\n",
              "      <th>3</th>\n",
              "      <td>0.066819</td>\n",
              "    </tr>\n",
              "    <tr>\n",
              "      <th>4</th>\n",
              "      <td>0.063429</td>\n",
              "    </tr>\n",
              "    <tr>\n",
              "      <th>5</th>\n",
              "      <td>-0.012018</td>\n",
              "    </tr>\n",
              "    <tr>\n",
              "      <th>6</th>\n",
              "      <td>0.061862</td>\n",
              "    </tr>\n",
              "    <tr>\n",
              "      <th>7</th>\n",
              "      <td>0.105960</td>\n",
              "    </tr>\n",
              "    <tr>\n",
              "      <th>8</th>\n",
              "      <td>-0.012379</td>\n",
              "    </tr>\n",
              "    <tr>\n",
              "      <th>9</th>\n",
              "      <td>0.009306</td>\n",
              "    </tr>\n",
              "    <tr>\n",
              "      <th>10</th>\n",
              "      <td>0.095739</td>\n",
              "    </tr>\n",
              "    <tr>\n",
              "      <th>11</th>\n",
              "      <td>0.095773</td>\n",
              "    </tr>\n",
              "    <tr>\n",
              "      <th>12</th>\n",
              "      <td>-0.039642</td>\n",
              "    </tr>\n",
              "  </tbody>\n",
              "</table>\n",
              "</div>"
            ],
            "text/plain": [
              "         AVG\n",
              "1   0.061032\n",
              "2   0.099811\n",
              "3   0.066819\n",
              "4   0.063429\n",
              "5  -0.012018\n",
              "6   0.061862\n",
              "7   0.105960\n",
              "8  -0.012379\n",
              "9   0.009306\n",
              "10  0.095739\n",
              "11  0.095773\n",
              "12 -0.039642"
            ]
          },
          "metadata": {},
          "execution_count": 23
        }
      ]
    },
    {
      "cell_type": "code",
      "metadata": {
        "colab": {
          "base_uri": "https://localhost:8080/",
          "height": 301
        },
        "id": "qTk_rG2v4Ieo",
        "outputId": "5193aa1a-5a40-4623-acea-4459d4b06e5f"
      },
      "source": [
        "df_AVG.plot.bar(title='Avg monthly returns')"
      ],
      "execution_count": 25,
      "outputs": [
        {
          "output_type": "execute_result",
          "data": {
            "text/plain": [
              "<matplotlib.axes._subplots.AxesSubplot at 0x7f5bcf6a7290>"
            ]
          },
          "metadata": {},
          "execution_count": 25
        },
        {
          "output_type": "display_data",
          "data": {
            "image/png": "[encoded data removed]",
            "text/plain": [
              "<Figure size 432x288 with 1 Axes>"
            ]
          },
          "metadata": {
            "needs_background": "light"
          }
        }
      ]
    },
    {
      "cell_type": "code",
      "metadata": {
        "id": "25_owvRT4p1a"
      },
      "source": [
        ""
      ],
      "execution_count": null,
      "outputs": []
    }
  ]
}